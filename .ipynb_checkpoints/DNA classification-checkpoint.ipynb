{
 "cells": [
  {
   "cell_type": "markdown",
   "metadata": {},
   "source": [
    "# AIM - \n",
    "The aim of the experiment is to study the DNA in human and chimpanzees and classify the seven different types of proteins that are common in both humans and chimpanzees using the protein sequence data."
   ]
  },
  {
   "cell_type": "markdown",
   "metadata": {},
   "source": [
    "# MOTIVATION\n",
    "From Human Genome Project, it's become clear that comparing the human genome with the genomes of other organisms is an enormously powerful tool for understanding our own biology.The chimpanzee and human genomes are strikingly similar and encode very similar proteins. The DNA sequence that can be directly compared between the two genomes is almost 99 percent identical. When DNA insertions and deletions are taken into account, humans and chimpanzees still share 96 percent sequence identity. At the protein level, 29 percent of genes code for the same amino sequences in chimpanzees and humans. here we have taken six different proteins that are - G protein coupled receptors , Tryosine kinase , Tyrosine Phosphatase , Synthase , Synthetase , Ion Channels and Transcription factor as these proteins are found in both humans and chimps. we have to the aim to classify the 7 classes of proteins by their sequence information."
   ]
  },
  {
   "cell_type": "markdown",
   "metadata": {},
   "source": [
    "# What is DNA?\n",
    "\n",
    "**Deoxyribonucleic acid** or DNA is the molecule that contains the genetic code of organisms. This includes animals, plants, protists, archaea and bacteria.DNA is in each cell in the organism and tells cells what proteins to make. Mostly, these proteins are enzymes. DNA is inherited by children from their parents. This is why children share traits with their parents, such as skin, hair and eye color. The DNA in a person is a combination of the DNA from each of their parents.Part of an organism's DNA is \"non-coding DNA\" sequences. They do not code for protein sequences. Some noncoding DNA is transcribed into non-coding RNA molecules, such as transfer RNA, ribosomal RNA, and regulatory RNAs. Other sequences are not transcribed at all, or give rise to RNA of unknown function. The amount of non-coding DNA varies greatly among species. For example, over 98% of the human genome is non-coding DNA,while only about 2% of a typical bacterial genome is non-coding DNA.\n",
    "Viruses use either DNA or RNA to infect organisms.The genome replication of most DNA viruses takes place in the cell's nucleus, whereas RNA viruses usually replicate in the cytoplasm.\n",
    "![](https://cdn.mos.cms.futurecdn.net/VNYuk6HHwayPmTbP72JBuM-650-80.jpg)\n",
    "\n",
    "**3D Structure of DNA :** \n",
    "<div>\n",
    "<img src=\"https://media2.giphy.com/media/l1fWtMmQbuGvm/200w.webp?cid=790b7611b3ce24f1071c6b897c413335768d7aec24f783a3&rid=200w.webp\" width=\"250\"/>\n",
    "</div>\n",
    "\n",
    "\n",
    "\n",
    "# Discovery of DNA \n",
    "\n",
    "DNA was first observed by a German biochemist named Frederich Miescher in 1869. He discovered the presence of purine and pyrimidine bases in nucleic acids. Levene (1910) found deoxyribose nucleic acid to contain phosphoric acid as well as deoxyribose sugar.\n",
    "He characterised four types of nucleotides present in DNA. In 1950, Chargaff found that purine and pyrimidine content of DNA was equal. By this time W.T. Astbury had found through X-ray diffraction that DNA is a polynucleotide with nucleotides arranged perpendicular to the long axis of the molecule and separated from one another by a distance of 0.34 nm.\n",
    "In 1953, Wilkins and Franklin got very fine X-ray photographs of DNA. The photographs showed that DNA was a helix with a width of 2.0 nm. One turn of the helix was 3.4 nm with 10 layers of bases stacked in it. Watson and Crick (1953) worked out the first correct double helix model from the X-ray photo­graphs of Wilkins and Franklin. Wilkins, Watson and Crick were awarded Nobel Prize for the same in 1962.\n",
    "Watson and Crick (1953) built a 3D, molecular model of DNA that satisfied all the details obtained from X-ray photographs. They proposed that DNA consisted of a double helix with two chains having sugar phosphate on the outside and nitrogen bases on the inner side.\n",
    "\n",
    "**James Watson and Francis Crick proposed Double Helix DNA Structure:**\n",
    "<div>\n",
    "<img src=\"https://res.cloudinary.com/dk-find-out/image/upload/q_80,w_1920,f_auto/A-SPL-H4000039_kl8ree.jpg\" width=\"500\"/>\n",
    "</div>\n",
    "\n",
    "**DNA Structure using X-ray Diffraction Proposed by Rosalind Franklin** : \n",
    "![](https://upload.wikimedia.org/wikipedia/en/b/b2/Photo_51_x-ray_diffraction_image.jpg)\n",
    "\n",
    "# DNA classification :\n",
    "The seven criteria which are generally used for the classification of DNA include: \n",
    "(1) Number of base pairs per turn \n",
    "(2) Coiling pattern \n",
    "(3) Location \n",
    "(4) Structure \n",
    "(5) Nucleotide sequences \n",
    "(6) Coding and Non-coding DNA\n",
    "(7) Number of strands.\n",
    "\n",
    "Types of DNA:\n",
    "DNA duplex model proposed by Watson and Crick is right handed spiral and is called B-DNA (Balanced DNA). In the model the base pairs lie at nearly right angles to the axis of helix. Another right handed duplex model is A-DNA (Alternate DNA). Here, a single turn of helix has 11 base pairs.\n",
    "\n",
    "The base pairs lie 20° away from perpendicular to the axis. C-DNA has 9 base pairs per turn of spiral while in D-DNA the number is only 8 base pairs. Both are right handed. Z-DNA (Zigzag DNA) is left-handed double helix with zigzag back-bone, alternate purine and pyrimidine bases, single turn of 45 A length with 12 base pairs and a single groove.\n",
    "\n",
    "B-DNA is more hydrated and most frequently found DNA in living cells. It is physiologically and biologically active form. However, it can get changed into other forms. Right handed DNA is known to change temporarily into the left handed form at least for a short distance. Such changes may cause changes in gene expression.\n",
    "<div>\n",
    "<img src=\"http://cdn.biologydiscussion.com/wp-content/uploads/2013/11/image_thumb.png\" width=\"600\"/>\n",
    "</div>\n",
    "\n",
    "\n",
    "# Protein Synthesis from DNA \n",
    "\n",
    "A section of DNA that contains instructions to make a protein is called a gene. Each gene has the sequence for at least one polypeptide.Proteins form structures, and also form enzymes. The enzymes do most of the work in cells. Proteins are made out of smaller polypeptides, which are formed of amino acids. To make a protein to do a particular job, the correct amino acids have to be joined up in the correct order.\n",
    "Proteins are made by tiny machines in the cell called ribosomes. Ribosomes are in the main body of the cell, but DNA is only in the nucleus of the cell. The codon is part of the DNA, but DNA never leaves the nucleus. Because DNA cannot leave the nucleus, the cell makes a copy of the DNA sequence in RNA. This is smaller and can get through the holes – pores – in the membrane of the nucleus and out into the cell.\n",
    "Genes encoded in DNA are transcribed into messenger RNA (mRNA) by proteins such as RNA polymerase. Mature mRNA is then used as a template for protein synthesis by the ribosome. Ribosomes read codons, 'words' made of three base pairs that tell the ribosome which amino acid to add. The ribosome scans along an mRNA, reading the code while it makes protein. Another RNA called tRNA helps match the right amino acid to each codon.\n",
    "\n",
    "**Animation of Protein Synthesis** :\n",
    "<div>\n",
    "<img src=\"https://media.giphy.com/media/mRI1hW0ZBVUly/giphy.gif\" width=\"400\"/>\n",
    "</div>\n",
    "\n",
    "\n",
    "\n",
    "# What are Chromosomes?\n",
    "Chromosomes are thread-like structures in which DNA is tightly packaged within the nucleus. DNA is coiled around proteins called histones, which provide the structural support. Chromosomes help ensure that DNA is replicated and distributed appropriately during cell division. Each chromosome has a centromere, which divides the chromosome into two sections – the p (short) arm and the q (long) arm. The centromere is located at the cell’s constriction point, which may or may not be the center of the chromosome.\n",
    "![](http://m2.wyanokecdn.com/45e53b986dd63104189827d2b6b6e933.jpg)\n",
    "At the end of each chromosome is a repetitive nucleotide sequence cap called a telomere. In vertebrates, the telomere is a TTAGGG sequence repeated to approximately 15,000 base pairs. These DNA regions serve a critical role of preserving the genomic sequence by protecting the genome from degradation, and inhibiting chromosomal fusion and recombination. These regions are also involved in chromosome organization within the nucleus.\n",
    "\n",
    "# Human and Chimp DNA :\n",
    "The chimpanzee and another ape, the bonobo, are humans' closest living relatives. These three species look alike in many ways, both in body and behavior. But for a clear understanding of how closely they are related, scientists compare their DNA, an essential molecule that's the instruction manual for building each species. Humans and chimps share a surprising 98.8 percent of their DNA. How can we be so similar--and yet so different?\n",
    "\n",
    "**Why so much similar DNA ?**\n",
    "Human and chimp DNA is so similar because the two species are so closely related. Humans, chimps and bonobos descended from a single ancestor species that lived six or seven million years ago. As humans and chimps gradually evolved from a common ancestor, their DNA, passed from generation to generation, changed too. In fact, many of these DNA changes led to differences between human and chimp appearance and behavior.\n",
    "<div>\n",
    "<img src=\"https://upload.wikimedia.org/wikipedia/commons/thumb/0/06/Humanchimpchromosomes.png/800px-Humanchimpchromosomes.png\" width=\"800\"/>\n",
    "</div>\n",
    "\n",
    "\n",
    "**Tabular comparison :**\n",
    "<div>\n",
    "<img src=\"https://pediaa.com/wp-content/uploads/2018/06/Difference-Between-Human-Genome-and-Chimp-Genome-Comparison-Summary.jpg\" width=\"600\"/>\n",
    "</div>\n",
    "\n",
    "**So much alike Yet So Different ?**\n",
    "If human and chimp DNA is 98.8 percent the same, why are we so different? Numbers tell part of the story. Each human cell contains roughly three billion base pairs, or bits of information. Just 1.2 percent of that equals about 35 million differences. Some of these have a big impact, others don't. And even two identical stretches of DNA can work differently--they can be \"turned on\" in different amounts, in different places or at different times.\n",
    "\n",
    "**REASONS-**\n",
    "\n",
    "**Same Genes, Behaving Differently**\n",
    "Although humans and chimps have many identical genes, they often use them in different ways. A gene's activity, or expression, can be turned up or down like the volume on a radio. So the same gene can be turned up high in humans, but very low in chimps.The same genes are expressed in the same brain regions in human, chimp and gorilla, but in different amounts. Thousands of differences like these affect brain development and function, and help explain why the human brain is larger and smarter.\n",
    "\n",
    "**Slightly Different Genes**\n",
    "The chimpanzee immune system is surprisingly similar to ours--most viruses that cause diseases like AIDS and hepatitis can infect chimpanzees too. But chimps don't get infected by the malaria parasite Plasmodium falciparum, which a mosquito can transmit through its bite into human blood. A small DNA difference makes human red blood cells vulnerable to this parasite, while chimp blood cells are resistant.\n",
    "\n",
    "\n",
    "# What are Proteins ?\n",
    "\n",
    "Proteins are large, complex molecules that play many critical roles in the body. They do most of the work in cells and are required for the structure, function, and regulation of the body’s tissues and organs.\n",
    "Proteins are made up of hundreds or thousands of smaller units called amino acids, which are attached to one another in long chains. There are 20 different types of amino acids that can be combined to make a protein. The sequence of amino acids determines each protein’s unique 3-dimensional structure and its specific function.\n",
    "\n",
    "**Functions of Protein :**\n",
    "<div>\n",
    "<img src=\"https://slideplayer.com/slide/8322831/34/images/2/G-Protein-Coupled+Receptor+%28GPCR%29.jpg\" width=\"500\"/>\n",
    "</div>\n",
    "![](https://www.eufic.org/images/uploads/whats-in-food/protein-functions.png)\n",
    "\n",
    "**Structure of Proteins :**\n",
    "four different types of protein structures are described below: \n",
    "\n",
    "1. **Primary Structure**\n",
    "Primary Structure describes the unique order in which amino acids are linked together to form a protein. Proteins are constructed from a set of 20 amino acids. Generally, amino acids have the following structural properties:\n",
    "A carbon (the alpha carbon) bonded to the four groups below:\n",
    "A hydrogen atom (H)\n",
    "A Carboxyl group (-COOH)\n",
    "An Amino group (-NH2)\n",
    "A \"variable\" group or \"R\" group\n",
    "All amino acids have the alpha carbon bonded to a hydrogen atom, carboxyl group, and an amino group. The \"R\" group varies among amino acids and determines the differences between these protein monomers. The amino acid sequence of a protein is determined by the information found in the cellular genetic code. The order of amino acids in a polypeptide chain is unique and specific to a particular protein. Altering a single amino acid causes a gene mutation, which most often results in a non-functioning protein.\n",
    "\n",
    "2. **Secondary Structure**\n",
    "Secondary Structure refers to the coiling or folding of a polypeptide chain that gives the protein its 3-D shape. There are two types of secondary structures observed in proteins. One type is the alpha (α) helix structure. This structure resembles a coiled spring and is secured by hydrogen bonding in the polypeptide chain. The second type of secondary structure in proteins is the beta (β) pleated sheet. This structure appears to be folded or pleated and is held together by hydrogen bonding between polypeptide units of the folded chain that lie adjacent to one another.\n",
    "\n",
    "3. **Tertiary Structure**\n",
    "Tertiary Structure refers to the comprehensive 3-D structure of the polypeptide chain of a protein. There are several types of bonds and forces that hold a protein in its tertiary structure.Hydrophobic interactions greatly contribute to the folding and shaping of a protein. The \"R\" group of the amino acid is either hydrophobic or hydrophilic. The amino acids with hydrophilic \"R\" groups will seek contact with their aqueous environment, while amino acids with hydrophobic \"R\" groups will seek to avoid water and position themselves towards the center of the protein.Hydrogen bonding in the polypeptide chain and between amino acid \"R\" groups helps to stabilize protein structure by holding the protein in the shape established by the hydrophobic interactions.Due to protein folding, ionic bonding can occur between the positively and negatively charged \"R\" groups that come in close contact with one another.Folding can also result in covalent bonding between the \"R\" groups of cysteine amino acids. This type of bonding forms what is called a disulfide bridge. Interactions called van der Waals forces also assist in the stabilization of protein structure. These interactions pertain to the attractive and repulsive forces that occur between molecules that become polarized. These forces contribute to the bonding that occurs between molecules.\n",
    "\n",
    "4. **Quaternary Structure**\n",
    "Quaternary Structure refers to the structure of a protein macromolecule formed by interactions between multiple polypeptide chains. Each polypeptide chain is referred to as a subunit. Proteins with quaternary structure may consist of more than one of the same type of protein subunit. They may also be composed of different subunits. Hemoglobin is an example of a protein with quaternary structure. Hemoglobin, found in the blood, is an iron-containing protein that binds oxygen molecules. It contains four subunits: two alpha subunits and two beta subunits.\n",
    "\n",
    "<div>\n",
    "<img src=\"https://www.thoughtco.com/thmb/aQ8bowwMDFlZQJkwMbkm19N44yw=/768x0/filters:no_upscale():max_bytes(150000):strip_icc():format(webp)/protein-structure-373563_final11-5c81967f46e0fb00012c667d.png\" width=\"600\"/>\n",
    "</div>\n",
    "\n",
    "\n",
    "\n",
    "\n"
   ]
  },
  {
   "cell_type": "code",
   "execution_count": 1,
   "metadata": {},
   "outputs": [
    {
     "ename": "NameError",
     "evalue": "name 'Image' is not defined",
     "output_type": "error",
     "traceback": [
      "\u001b[0;31m---------------------------------------------------------------------------\u001b[0m",
      "\u001b[0;31mNameError\u001b[0m                                 Traceback (most recent call last)",
      "\u001b[0;32m<ipython-input-1-b29929db1283>\u001b[0m in \u001b[0;36m<module>\u001b[0;34m\u001b[0m\n\u001b[0;32m----> 1\u001b[0;31m \u001b[0mImage\u001b[0m\u001b[0;34m(\u001b[0m\u001b[0;34m\"classification.png\"\u001b[0m\u001b[0;34m,\u001b[0m\u001b[0mwidth\u001b[0m\u001b[0;34m=\u001b[0m\u001b[0;36m600\u001b[0m\u001b[0;34m)\u001b[0m\u001b[0;34m\u001b[0m\u001b[0;34m\u001b[0m\u001b[0m\n\u001b[0m",
      "\u001b[0;31mNameError\u001b[0m: name 'Image' is not defined"
     ]
    }
   ],
   "source": [
    "Image(\"classification.png\",width=600)"
   ]
  },
  {
   "cell_type": "markdown",
   "metadata": {},
   "source": [
    "**G protein-coupled receptors (GPCRs)**\n",
    "\n",
    "G-protein-coupled receptors (GPCRs), also known as seven-(pass)-transmembrane domain receptors, 7TM receptors, heptahelical receptors, serpentine receptor, and G protein-linked receptors (GPLR), constitute a large protein family of receptors that detect molecules outside the cell and activate internal signal transduction pathways and, ultimately, cellular responses. Coupling with G proteins, they are called seven-transmembrane receptors because they pass through the cell membrane seven times.G protein-coupled receptors are found only in eukaryotes, including yeast, choanoflagellates and animals. The ligands that bind and activate these receptors include light-sensitive compounds, odors, pheromones, hormones, and neurotransmitters, and vary in size from small molecules to peptides to large proteins. G protein-coupled receptors are involved in many diseases.\n",
    "\n",
    "<div>\n",
    "<img src=\"https://slideplayer.com/slide/8322831/34/images/2/G-Protein-Coupled+Receptor+%28GPCR%29.jpg\" width=\"500\"/>\n",
    "</div>\n",
    "\n",
    "\n",
    "**Tyrosine Kinase**\n",
    "\n",
    "A tyrosine kinase is an enzyme that can transfer a phosphate group from ATP to a protein in a cell. It functions as an \"on\" or \"off\" switch in many cellular functions. Tyrosine kinases are a subclass of protein kinase.\n",
    "The phosphate group is attached to the amino acid tyrosine on the protein. Tyrosine kinases are a subgroup of the larger class of protein kinases that attach phosphate groups to other amino acids (serine and threonine). Phosphorylation of proteins by kinases is an important mechanism in communicating signals within a cell (signal transduction) and regulating cellular activity, such as cell division.Protein kinases can become mutated, stuck in the \"on\" position, and cause unregulated growth of the cell, which is a necessary step for the development of cancer. Therefore, kinase inhibitors, such as imatinib, are often effective cancer treatments.Most tyrosine kinases have an associated protein tyrosine phosphatase, which removes the phosphate group.\n",
    "\n",
    "**Structure** :\n",
    "<div>\n",
    "<img src=\"https://upload.wikimedia.org/wikipedia/commons/thumb/5/59/Hck_protein_tyrosine_kinase.png/624px-Hck_protein_tyrosine_kinase.png\" width=\"500\"/>\n",
    "</div>\n",
    "\n",
    "**Tyrosine Phosphatase**\n",
    "\n",
    "Protein tyrosine phosphatases are a group of enzymes that remove phosphate groups from phosphorylated tyrosine residues on proteins. Protein tyrosine (pTyr) phosphorylation is a common post-translational modification that can create novel recognition motifs for protein interactions and cellular localization, affect protein stability, and regulate enzyme activity. As a consequence, maintaining an appropriate level of protein tyrosine phosphorylation is essential for many cellular functions. Tyrosine-specific protein phosphatases (PTPase; EC 3.1.3.48) catalyse the removal of a phosphate group attached to a tyrosine residue, using a cysteinyl-phosphate enzyme intermediate. These enzymes are key regulatory components in signal transduction pathways (such as the MAP kinase pathway) and cell cycle control, and are important in the control of cell growth, proliferation, differentiation, transformation, and synaptic plasticity.\n",
    "\n",
    "**Structure** :\n",
    "<div>\n",
    "<img src=\"https://upload.wikimedia.org/wikipedia/commons/thumb/a/ad/1xm2.jpg/800px-1xm2.jpg\" width=\"500\"/>\n",
    "</div>\n",
    "\n",
    "\n",
    "**Synthetase**\n",
    "In biochemistry, a ligase is an enzyme that can catalyze the joining of two large molecules by forming a new chemical bond, usually with accompanying hydrolysis of a small pendant chemical group on one of the larger molecules or the enzyme catalyzing the linking together of two compounds, e.g., enzymes that catalyze joining of C-O, C-S, C-N, etc. In general, a ligase catalyzes the following reaction:\n",
    "\n",
    "Ab + C → A–C + b\n",
    "\n",
    "or sometimes\n",
    "\n",
    "Ab + cD → A–D + b + c + d + e + f\n",
    "\n",
    "where the lowercase letters signify the small, dependent groups. Ligase can join two complementary fragments of nucleic acid and repair single stranded breaks that arise in double stranded DNA during replication.\n",
    "\n",
    "**Synthase**\n",
    "a synthase is an enzyme that catalyses a synthesis process. Following the EC number classification, they belong to the group of lyases.originally, biochemical nomenclature distinguished synthetases and synthases. Under the original definition, synthases do not use energy from nucleoside triphosphates (such as ATP, GTP, CTP, TTP, and UTP), whereas synthetases do use nucleoside triphosphates. However, the Joint Commission on Biochemical Nomenclature (JCBN) dictates that 'synthase' can be used with any enzyme that catalyzes synthesis (whether or not it uses nucleoside triphosphates), whereas 'synthetase' is to be used synonymously with 'ligase'.\n",
    "\n",
    "![](https://qph.fs.quoracdn.net/main-qimg-e1b4c0c775fba44f50b61f0eca305b25.webp)\n",
    "\n",
    "**Example of difference between synthase and synthetase enzymes :**\n",
    "![](https://lh4.googleusercontent.com/proxy/4bcxxQ2UaVYwn0A2XFMU45RB0AbgtObk_ogCynxCbKJiwbkGYf9utzfr7w2xaBoH3etZahZ5gPm0o1whSbn30k3ZtWU66IuAaofCBatQ2vA7cndHj59fP-PsXWPWDhzzsA320jc)\n",
    "\n",
    "**Ion Channels**\n",
    "\n",
    "Ion channels are pore-forming membrane proteins that allow ions to pass through the channel pore. Their functions include establishing a resting membrane potential, shaping action potentials and other electrical signals by gating the flow of ions across the cell membrane, controlling the flow of ions across secretory and epithelial cells, and regulating cell volume. Ion channels are present in the membranes of all excitable cells.Ion channels are one of the two classes of ionophoric proteins, the other being ion transporters.\n",
    "The study of ion channels often involves biophysics, electrophysiology, and pharmacology, while using techniques including voltage clamp, patch clamp, immunohistochemistry, X-ray crystallography, fluoroscopy, and RT-PCR. Their classification as molecules is referred to as channelomics.\n",
    "\n",
    "**Structure :**\n",
    "<div>\n",
    "<img src=\"https://www.news-medical.net/image.axd?picture=2018%2F10%2Fshutterstock_479593594.jpg\" width=\"500\"/>\n",
    "</div>\n",
    "\n",
    "\n",
    "**Transcription Factors**\n",
    "\n",
    "Transcription factor (TF) (or sequence-specific DNA-binding factor) is a protein that controls the rate of transcription of genetic information from DNA to messenger RNA, by binding to a specific DNA sequence.The function of TFs is to regulate—turn on and off—genes in order to make sure that they are expressed in the right cell at the right time and in the right amount throughout the life of the cell and the organism. Groups of TFs function in a coordinated fashion to direct cell division, cell growth, and cell death throughout life; cell migration and organization (body plan) during embryonic development; and intermittently in response to signals from outside the cell, such as a hormone. There are up to 1600 TFs in the human genome.TFs work alone or with other proteins in a complex, by promoting (as an activator), or blocking (as a repressor) the recruitment of RNA polymerase (the enzyme that performs the transcription of genetic information from DNA to RNA) to specific genes.\n",
    "A defining feature of TFs is that they contain at least one DNA-binding domain (DBD), which attaches to a specific sequence of DNA adjacent to the genes that they regulate.TFs are grouped into classes based on their DBDs.Other proteins such as coactivators, chromatin remodelers, histone acetyltransferases, histone deacetylases, kinases, and methylases are also essential to gene regulation, but lack DNA-binding domains, and therefore are not TFs.\n",
    "\n",
    "**Structure :**\n",
    "<div>\n",
    "<img src=\"https://upload.wikimedia.org/wikipedia/commons/8/80/Transcription_Factors.svg\" width=\"800\"/>\n",
    "</div>\n"
   ]
  },
  {
   "cell_type": "markdown",
   "metadata": {},
   "source": []
  },
  {
   "cell_type": "markdown",
   "metadata": {},
   "source": [
    "# LIBRARIES REQUIRED-\n",
    "\n",
    "# Numpy\n",
    "NumPy is a general-purpose array-processing package. It provides a high-performance multidimensional array object, and tools for working with these arrays.\n",
    "It is the fundamental package for scientific computing with Python. It contains various features including these important ones like A powerful N-dimensional array object,Sophisticated (broadcasting) functions,Tools for integrating C/C++ and Fortran code and Useful linear algebra, Fourier transform, and random number capabilities.\n",
    "\n",
    "Besides its obvious scientific uses, NumPy can also be used as an efficient multi-dimensional container of generic data.Arbitrary data-types can be defined using Numpy which allows NumPy to seamlessly and speedily integrate with a wide variety of databases.\n",
    "\n",
    "# Pandas\n",
    "Pandas is hands down one of the best libraries of python. It supports reading and writing excel spreadsheets, CVS's and a whole lot of manipulation. It is more like a mandatory library you need to know if you're dealing with datasets from excel files and CSV files. i.e for Machine learning and data science.It provides highly optimized performance with back-end source code is purely written in C or Python.\n",
    "\n",
    "**Pandas DataFrame** - Pandas DataFrame is two-dimensional size-mutable, potentially heterogeneous tabular data structure with labeled axes (rows and columns). A Data frame is a two-dimensional data structure, i.e., data is aligned in a tabular fashion in rows and columns.\n",
    "\n",
    "**Pandas_profiling** - Pandas profiling provides analysis like type, unique values, missing values, quantile statistics, mean, mode, median, standard deviation, sum, skewness, frequent values, histograms, correlation between variables, count, heatmap visualization, etc.we use pandas profiling to boost EDA in a very short time and with just a single line code.\n",
    "\n",
    "\n",
    "# Matplotlib\n",
    "Matplotlib is a visualization library in Python for 2D plots of arrays. Matplotlib is a multi-platform data visualization library built on NumPy arrays and designed to work with the broader SciPy stack. It was introduced by John Hunter in the year 2002. \n",
    "Matplotlib tries to make easy things easy and hard things possible. You can generate plots, histograms, power spectra, bar charts, errorcharts, scatterplots, etc., with just a few lines of code.\n",
    "For simple plotting the pyplot module provides a MATLAB-like interface, particularly when combined with IPython. For the power user, you have full control of line styles, font properties, axes properties, etc, via an object oriented interface or via a set of functions familiar to MATLAB users.\n",
    "\n",
    "# IPython - \n",
    "IPython is an alternative Python interpreter. It is an interactive shell used for computing in Python. It provides many more useful features over the more popular default Python interpreter.\n",
    "Ipython.display - Create a PNG/JPEG/GIF image object given raw data.When this object is returned by an input cell or passed to the display function, it will result in the image being displayed in the frontend.\n",
    "\n",
    "# Sklearn- \n",
    "Scikit-learn provides a range of supervised and unsupervised learning algorithms via a consistent interface in Python.It is licensed under a permissive simplified BSD license and is distributed under many Linux distributions, encouraging academic and commercial use.\n",
    "The library is built upon the SciPy (Scientific Python) that must be installed before you can use scikit-learn.\n",
    "Extensions or modules for SciPy care conventionally named SciKits. As such, the module provides learning algorithms and is named scikit-learn.The vision for the library is a level of robustness and support required for use in production systems. This means a deep focus on concerns such as easy of use, code quality, collaboration, documentation and performance.Although the interface is Python, c-libraries are leverage for performance such as numpy for arrays and matrix operations, LAPACK, LibSVM and the careful use of cython.\n",
    "**The sklearn.feature_extraction** module can be used to extract features in a format supported by machine learning algorithms from datasets consisting of formats such as text and image.\n",
    "**CountVectorizer** provides a simple way to both tokenize a collection of text documents i.e.tokenizing strings and giving an integer id for each possible token, for instance by using white-spaces and punctuation as token separators and build a vocabulary of known words, but also to encode new documents using that vocabulary.\n",
    "**train_test_split** Using this we can easily split the dataset into the training and the testing datasets in various proportions.\n",
    "\n",
    "# Mlxtend\n",
    "Mlxtend (machine learning extensions) is a Python library of useful tools for the day-to-day data science tasks.it includes funnctions for plotting beautiful graphs and plots.\n",
    "\n",
    "\n"
   ]
  },
  {
   "cell_type": "markdown",
   "metadata": {},
   "source": [
    "# Algorithms used - \n",
    "\n",
    "# NAIVE-BAYES-\n",
    "\n",
    "A Naive Bayes Classifier is a supervised machine-learning algorithm that uses the Bayes’ Theorem, which assumes that features are statistically independent. The theorem relies on the naive assumption that input variables are independent of each other, i.e. there is no way to know anything about other variables when given an additional variable. Regardless of this assumption, it has proven itself to be a classifier with good results.\n",
    "\n",
    "**What Is the Bayes’ Theorem?**\n",
    "\n",
    "Naive Bayes Classifiers rely on the Bayes’ Theorem, which is based on conditional probability or in simple terms, the likelihood that an event (A) will happen given that another event (B) has already happened. Essentially, the theorem allows a hypothesis to be updated each time new evidence is introduced. The equation below expresses Bayes’ Theorem in the language of probability:\n",
    "\n",
    "<div>\n",
    "<img src=\"https://blog.easysol.net/wp-content/uploads/2017/12/Image-1-1-600x169.png\" width=\"200\"/>\n",
    "</div>\n",
    "\n",
    "\n",
    "Let’s explain what each of these terms means.\n",
    "\n",
    "    “P” is the symbol to denote probability.\n",
    "    P(A | B) = The probability of event A (hypothesis) occurring given that B (evidence) has occurred.\n",
    "    P(B | A) = The probability of the event B (evidence) occurring given that A (hypothesis) has occurred.\n",
    "    P(A) = The probability of event B (hypothesis) occurring.\n",
    "    P(B) = The probability of event A (evidence) occurring.\n",
    "\n",
    "Different Naive Bayes algorithms - \n",
    "**Multinomial Naive Bayes :**\n",
    "\n",
    "It estimates the conditional probability of a particular word given a class as the relative frequency of term t in documents belonging to class(c). The variation takes into account the number of occurrences of term t in training documents from class (c),including multiple occurrences.\n",
    "\n",
    "**Boolean Multinomial Naive Bayes :**\n",
    "\n",
    "It works same like Multinomial naive bayes only change instead of measuring all occurrence in term (t) in document it measure the occurrence only once.\n",
    "\n",
    "**Bernoulli Naive Bayes Model :**\n",
    "\n",
    "It generates boolean value/indicator about each term of the vocabulary equal to 1 if the term belongs to examining document,if not it marks 0.Non accruing terms in document are takes into document and they are factored when computing the conditional probabilities and thus the absence of terms is taken into account.\n",
    "\n",
    "**Gaussian Naive Bayes Model :**\n",
    "A Gaussian Naive Bayes algorithm is a special type of NB algorithm. It's specifically used when the features have continuous values. It's also assumed that all the features are following a gaussian distribution i.e, normal distribution.\n",
    "\n",
    "**Why use Multinomial Naive Bayes ?**\n",
    "\n",
    "<div>\n",
    "<img src=\"https://view.vzaar.com/9813451/image\" width=\"700\"/>\n",
    "</div>\n",
    "\n",
    "# XGBOOST - \n",
    "XGBoost stands for **eXtreme Gradient Boosting.** - Gradient Boosting specifically is an approach where new models are trained to predict the residuals (i.e errors) of prior models.\n",
    "<div>\n",
    "<img src=\"https://miro.medium.com/max/461/1*A9myadIB_CqJv-EJA-G_bA.png\" width=\"400\"/>\n",
    "</div>\n",
    "\n",
    "XGBoost is an open source library providing a high-performance implementation of gradient boosted decision trees. An underlying C++ codebase combined with a Python interface sitting on top makes for an extremely powerful yet easy to implement package.\n",
    "The performance of XGBoost is no joke — it’s become the go-to library for winning many Kaggle competitions. Its gradient boosting implementation is second to none and there’s only more to come as the library continues to garner praise.\n",
    "The two reasons to use XGBoost are also the two goals of the project:\n",
    "\n",
    "    1-Execution Speed.\n",
    "    2-Model Performance.\n",
    "It is a decision-tree-based ensemble Machine Learning algorithm that uses a gradient boosting framework. In prediction problems involving unstructured data (images, text, etc.) artificial neural networks tend to outperform all other algorithms or frameworks. However, when it comes to small-to-medium structured/tabular data, decision tree based algorithms are considered best-in-class right now. Please see the chart below for the evolution of tree-based algorithms over the years.\n",
    "\n",
    "<div>\n",
    "<img src=\"https://miro.medium.com/max/925/1*QJZ6W-Pck_W7RlIDwUIN9Q.jpeg\" width=\"600\"/>\n",
    "</div>\n",
    "\n",
    "\n",
    "# Decision Tree -\n",
    "A decision tree is a flowchart-like structure in which each internal node represents a test on a feature (e.g. whether a coin flip comes up heads or tails) , each leaf node represents a class label (decision taken after computing all features) and branches represent conjunctions of features that lead to those class labels. The paths from root to leaf represent classification rules. Below diagram illustrate the basic flow of decision tree for decision making with labels (Rain(Yes), No Rain(No)).\n",
    "<div>\n",
    "<img src=\"https://miro.medium.com/max/1292/0*PB7MYQfzyaLaTp1n\" width=\"500\"/>\n",
    "</div>\n",
    "\n",
    "Decision tree is one of the predictive modelling approaches used in statistics, data mining and machine learning.\n",
    "Decision trees are constructed via an algorithmic approach that identifies ways to split a data set based on different conditions. It is one of the most widely used and practical methods for supervised learning. Decision Trees are a non-parametric supervised learning method used for both classification and regression tasks.\n",
    "Tree models where the target variable can take a discrete set of values are called classification trees. Decision trees where the target variable can take continuous values (typically real numbers) are called regression trees.\n",
    "\n",
    "\n",
    "\n",
    "# RandomForest -\n",
    "Random forest is a supervised learning algorithm which is used for both classification as well as regression. But however, it is mainly used for classification problems. As we know that a forest is made up of trees and more trees means more robust forest. Similarly, random forest algorithm creates decision trees on data samples and then gets the prediction from each of them and finally selects the best solution by means of voting. It is an ensemble method which is better than a single decision tree because it reduces the over-fitting by averaging the result.\n",
    "Working of Random Forest Algorithm\n",
    "\n",
    "We can understand the working of Random Forest algorithm with the help of following steps −\n",
    "\n",
    "    Step 1 − First, start with the selection of random samples from a given dataset.\n",
    "\n",
    "    Step 2 − Next, this algorithm will construct a decision tree for every sample. Then it will get the prediction result from every decision tree.\n",
    "\n",
    "    Step 3 − In this step, voting will be performed for every predicted result.\n",
    "\n",
    "    Step 4 − At last, select the most voted prediction result as the final prediction result.\n",
    " \n",
    "<div>\n",
    "<img src=\"https://www.tutorialspoint.com/machine_learning_with_python/images/random_forest_algorithm.jpg\" width=\"500\"/>\n",
    "</div>\n",
    "\n",
    "\n",
    "\n",
    "\n",
    "\n",
    "\n",
    "\n"
   ]
  },
  {
   "cell_type": "markdown",
   "metadata": {},
   "source": [
    "# Evaulation metrices used - \n",
    "\n",
    "# Classification Accuracy\n",
    "Classification Accuracy is what we usually mean, when we use the term accuracy. It is the ratio of number of correct predictions to the total number of input samples.\n",
    "![](https://miro.medium.com/max/373/1*yRa2inzTnyASJOre93ep3g.gif)\n",
    "\n",
    "It works well only if there are equal number of samples belonging to each class.\n",
    "For example, consider that there are 98% samples of class A and 2% samples of class B in our training set. Then our model can easily get 98% training accuracy by simply predicting every training sample belonging to class A.\n",
    "When the same model is tested on a test set with 60% samples of class A and 40% samples of class B, then the test accuracy would drop down to 60%. Classification Accuracy is great, but gives us the false sense of achieving high accuracy.\n",
    "The real problem arises, when the cost of misclassification of the minor class samples are very high. If we deal with a rare but fatal disease, the cost of failing to diagnose the disease of a sick person is much higher than the cost of sending a healthy person to more tests.\n",
    "\n",
    "# F1 Score\n",
    "F1 Score is used to measure a test’s accuracy.F1 Score is the Harmonic Mean between precision and recall. The range for F1 Score is [0, 1]. It tells you how precise your classifier is (how many instances it classifies correctly), as well as how robust it is (it does not miss a significant number of instances).\n",
    "High precision but lower recall, gives you an extremely accurate, but it then misses a large number of instances that are difficult to classify. The greater the F1 Score, the better is the performance of our model. Mathematically, it can be expressed as :\n",
    "![](https://miro.medium.com/max/191/1*_pYttqYh8w-EpLxMi84H8A.gif)\n",
    "\n",
    "F1 Score tries to find the balance between precision and recall.\n",
    "\n",
    "# Precision\n",
    "It is the number of correct positive results divided by the number of positive results predicted by the classifier.\n",
    "![](https://miro.medium.com/max/365/1*wMIDfGwT9bA6HezvYhdbpQ.gif)\n",
    "\n",
    "\n",
    "# Recall :\n",
    "It is the number of correct positive results divided by the number of all relevant samples (all samples that should have been identified as positive).\n",
    "![](https://miro.medium.com/max/371/1*gIlQMZBPjtUHWkwOhRG3KA.gif)\n",
    "\n",
    "# Confusion Matrix\n",
    "Confusion Matrix as the name suggests gives us a matrix as output and describes the complete performance of the model.\n",
    "Lets assume we have a binary classification problem. We have some samples belonging to two classes : YES or NO. Also, we have our own classifier which predicts a class for a given input sample. On testing our model on 165 samples ,we get the following result.\n",
    "![](https://miro.medium.com/max/386/1*GMlSubndVt3g7FmeQjpeMA.png)\n",
    "\n",
    "There are 4 important terms :\n",
    "True Positives : The cases in which we predicted YES and the actual output was also YES.\n",
    "True Negatives : The cases in which we predicted NO and the actual output was NO.\n",
    "False Positives : The cases in which we predicted YES and the actual output was NO.\n",
    "False Negatives : The cases in which we predicted NO and the actual output was YES.\n",
    "Accuracy for the matrix can be calculated by taking average of the values lying across the “main diagonal” i.e.\n",
    "![](https://miro.medium.com/max/366/1*NDD6vdbTcLPzXVbCKi87RA.gif)\n",
    "![](https://miro.medium.com/max/241/1*VbjXSHvKxtgoi-oM2OHuuQ.gif)\n",
    "\n",
    "Confusion Matrix forms the basis for the other types of metrics."
   ]
  },
  {
   "cell_type": "markdown",
   "metadata": {},
   "source": [
    "# 1. Importing Libraries"
   ]
  },
  {
   "cell_type": "code",
   "execution_count": 56,
   "metadata": {},
   "outputs": [],
   "source": [
    "import numpy as np\n",
    "import pandas as pd\n",
    "from IPython.display import Image\n",
    "from matplotlib import cm #importing colormaps from matplotlib\n",
    "from sklearn.feature_extraction.text import CountVectorizer\n",
    "from sklearn.model_selection import train_test_split\n",
    "from sklearn.naive_bayes import MultinomialNB\n",
    "from sklearn.tree import DecisionTreeClassifier\n",
    "from sklearn.metrics import accuracy_score,f1_score,recall_score,precision_score,confusion_matrix,classification_report,roc_curve,roc_auc_score\n",
    "import matplotlib.pyplot as plt\n",
    "%matplotlib inline\n",
    "from pandas_profiling import ProfileReport\n",
    "import seaborn as sns\n",
    "from mlxtend.plotting import plot_confusion_matrix"
   ]
  },
  {
   "cell_type": "markdown",
   "metadata": {},
   "source": [
    "# 2. Exploratory Data Analysis"
   ]
  },
  {
   "cell_type": "code",
   "execution_count": 59,
   "metadata": {},
   "outputs": [],
   "source": [
    "labels = ['G protein coupled receptors','Tyrosine Kinase','Tyrosine phosphatase','Synthetase','Synthase','Ion channel','Transcription Factor']"
   ]
  },
  {
   "cell_type": "code",
   "execution_count": 60,
   "metadata": {},
   "outputs": [
    {
     "data": {
      "text/html": [
       "<div>\n",
       "<style scoped>\n",
       "    .dataframe tbody tr th:only-of-type {\n",
       "        vertical-align: middle;\n",
       "    }\n",
       "\n",
       "    .dataframe tbody tr th {\n",
       "        vertical-align: top;\n",
       "    }\n",
       "\n",
       "    .dataframe thead th {\n",
       "        text-align: right;\n",
       "    }\n",
       "</style>\n",
       "<table border=\"1\" class=\"dataframe\">\n",
       "  <thead>\n",
       "    <tr style=\"text-align: right;\">\n",
       "      <th></th>\n",
       "      <th>sequence</th>\n",
       "      <th>class</th>\n",
       "    </tr>\n",
       "  </thead>\n",
       "  <tbody>\n",
       "    <tr>\n",
       "      <th>0</th>\n",
       "      <td>ATGCCCCAACTAAATACTACCGTATGGCCCACCATAATTACCCCCA...</td>\n",
       "      <td>4</td>\n",
       "    </tr>\n",
       "    <tr>\n",
       "      <th>1</th>\n",
       "      <td>ATGAACGAAAATCTGTTCGCTTCATTCATTGCCCCCACAATCCTAG...</td>\n",
       "      <td>4</td>\n",
       "    </tr>\n",
       "    <tr>\n",
       "      <th>2</th>\n",
       "      <td>ATGTGTGGCATTTGGGCGCTGTTTGGCAGTGATGATTGCCTTTCTG...</td>\n",
       "      <td>3</td>\n",
       "    </tr>\n",
       "    <tr>\n",
       "      <th>3</th>\n",
       "      <td>ATGTGTGGCATTTGGGCGCTGTTTGGCAGTGATGATTGCCTTTCTG...</td>\n",
       "      <td>3</td>\n",
       "    </tr>\n",
       "    <tr>\n",
       "      <th>4</th>\n",
       "      <td>ATGCAACAGCATTTTGAATTTGAATACCAGACCAAAGTGGATGGTG...</td>\n",
       "      <td>3</td>\n",
       "    </tr>\n",
       "  </tbody>\n",
       "</table>\n",
       "</div>"
      ],
      "text/plain": [
       "                                            sequence  class\n",
       "0  ATGCCCCAACTAAATACTACCGTATGGCCCACCATAATTACCCCCA...      4\n",
       "1  ATGAACGAAAATCTGTTCGCTTCATTCATTGCCCCCACAATCCTAG...      4\n",
       "2  ATGTGTGGCATTTGGGCGCTGTTTGGCAGTGATGATTGCCTTTCTG...      3\n",
       "3  ATGTGTGGCATTTGGGCGCTGTTTGGCAGTGATGATTGCCTTTCTG...      3\n",
       "4  ATGCAACAGCATTTTGAATTTGAATACCAGACCAAAGTGGATGGTG...      3"
      ]
     },
     "execution_count": 60,
     "metadata": {},
     "output_type": "execute_result"
    }
   ],
   "source": [
    "human_data = pd.read_table('human_data.txt')\n",
    "human_data.head()"
   ]
  },
  {
   "cell_type": "code",
   "execution_count": 61,
   "metadata": {},
   "outputs": [
    {
     "data": {
      "text/html": [
       "<div>\n",
       "<style scoped>\n",
       "    .dataframe tbody tr th:only-of-type {\n",
       "        vertical-align: middle;\n",
       "    }\n",
       "\n",
       "    .dataframe tbody tr th {\n",
       "        vertical-align: top;\n",
       "    }\n",
       "\n",
       "    .dataframe thead th {\n",
       "        text-align: right;\n",
       "    }\n",
       "</style>\n",
       "<table border=\"1\" class=\"dataframe\">\n",
       "  <thead>\n",
       "    <tr style=\"text-align: right;\">\n",
       "      <th></th>\n",
       "      <th>class</th>\n",
       "    </tr>\n",
       "  </thead>\n",
       "  <tbody>\n",
       "    <tr>\n",
       "      <th>count</th>\n",
       "      <td>4380.000000</td>\n",
       "    </tr>\n",
       "    <tr>\n",
       "      <th>mean</th>\n",
       "      <td>3.504566</td>\n",
       "    </tr>\n",
       "    <tr>\n",
       "      <th>std</th>\n",
       "      <td>2.132134</td>\n",
       "    </tr>\n",
       "    <tr>\n",
       "      <th>min</th>\n",
       "      <td>0.000000</td>\n",
       "    </tr>\n",
       "    <tr>\n",
       "      <th>25%</th>\n",
       "      <td>2.000000</td>\n",
       "    </tr>\n",
       "    <tr>\n",
       "      <th>50%</th>\n",
       "      <td>4.000000</td>\n",
       "    </tr>\n",
       "    <tr>\n",
       "      <th>75%</th>\n",
       "      <td>6.000000</td>\n",
       "    </tr>\n",
       "    <tr>\n",
       "      <th>max</th>\n",
       "      <td>6.000000</td>\n",
       "    </tr>\n",
       "  </tbody>\n",
       "</table>\n",
       "</div>"
      ],
      "text/plain": [
       "             class\n",
       "count  4380.000000\n",
       "mean      3.504566\n",
       "std       2.132134\n",
       "min       0.000000\n",
       "25%       2.000000\n",
       "50%       4.000000\n",
       "75%       6.000000\n",
       "max       6.000000"
      ]
     },
     "execution_count": 61,
     "metadata": {},
     "output_type": "execute_result"
    }
   ],
   "source": [
    "#Pandas describe() is used to view some basic statistical details like percentile, mean, std etc. of a data frame or a series of numeric values\n",
    "human_data.describe()"
   ]
  },
  {
   "cell_type": "code",
   "execution_count": 62,
   "metadata": {},
   "outputs": [
    {
     "data": {
      "image/png": "[encoded data removed]",
      "text/plain": [
       "<Figure size 432x288 with 1 Axes>"
      ]
     },
     "metadata": {
      "needs_background": "light"
     },
     "output_type": "display_data"
    }
   ],
   "source": [
    "sns.barplot(x=human_data[\"class\"].value_counts().sort_index(),y=labels) #plotting the barplot using seaborn \n",
    "plt.title(\"Class frequency for human data\") #title for plot\n",
    "plt.xlabel('Frequency') #label for x axis\n",
    "plt.ylabel('Protein class') #label for y axis\n",
    "plt.show() #displaying the plot"
   ]
  },
  {
   "cell_type": "code",
   "execution_count": 63,
   "metadata": {},
   "outputs": [
    {
     "data": {
      "image/png": "[encoded data removed]",
      "text/plain": [
       "<Figure size 432x432 with 1 Axes>"
      ]
     },
     "metadata": {},
     "output_type": "display_data"
    }
   ],
   "source": [
    "plt.figure(figsize=(6,6))  #using plt.figure to plot a figure and setting its figsize \n",
    "font_dict=font = {'family': 'serif', \n",
    "        'color':  'Black',\n",
    "        'weight': 'normal',\n",
    "        'size': 20,\n",
    "        }\n",
    "a=np.random.random(7) #generating 7 random numbers using np.random method\n",
    "cs=cm.Set1(np.arange(7)/7.) #this assigns colors from colormap of matplotlib to each 7 numbers\n",
    "plt.pie(human_data[\"class\"].value_counts().sort_index(),labels=labels,autopct='%1.1f%%',colors=cs,startangle=90) \n",
    "#code for plotting the pie chart --value_counts counts the number of elements belonging to a specific class \n",
    "plt.axis('equal')\n",
    "plt.title(\"Human data Protein class\",fontdict=font_dict) #setting up the title of pie chart and using above made font_dict\n",
    "plt.show() #displaying the plot"
   ]
  },
  {
   "cell_type": "code",
   "execution_count": 64,
   "metadata": {},
   "outputs": [
    {
     "data": {
      "text/html": [
       "<div>\n",
       "<style scoped>\n",
       "    .dataframe tbody tr th:only-of-type {\n",
       "        vertical-align: middle;\n",
       "    }\n",
       "\n",
       "    .dataframe tbody tr th {\n",
       "        vertical-align: top;\n",
       "    }\n",
       "\n",
       "    .dataframe thead th {\n",
       "        text-align: right;\n",
       "    }\n",
       "</style>\n",
       "<table border=\"1\" class=\"dataframe\">\n",
       "  <thead>\n",
       "    <tr style=\"text-align: right;\">\n",
       "      <th></th>\n",
       "      <th>sequence</th>\n",
       "      <th>class</th>\n",
       "    </tr>\n",
       "  </thead>\n",
       "  <tbody>\n",
       "    <tr>\n",
       "      <th>0</th>\n",
       "      <td>ATGCCCCAACTAAATACCGCCGTATGACCCACCATAATTACCCCCA...</td>\n",
       "      <td>4</td>\n",
       "    </tr>\n",
       "    <tr>\n",
       "      <th>1</th>\n",
       "      <td>ATGAACGAAAATCTATTCGCTTCATTCGCTGCCCCCACAATCCTAG...</td>\n",
       "      <td>4</td>\n",
       "    </tr>\n",
       "    <tr>\n",
       "      <th>2</th>\n",
       "      <td>ATGGCCTCGCGCTGGTGGCGGTGGCGACGCGGCTGCTCCTGGAGGC...</td>\n",
       "      <td>4</td>\n",
       "    </tr>\n",
       "    <tr>\n",
       "      <th>3</th>\n",
       "      <td>ATGGCCTCGCGCTGGTGGCGGTGGCGACGCGGCTGCTCCTGGAGGC...</td>\n",
       "      <td>4</td>\n",
       "    </tr>\n",
       "    <tr>\n",
       "      <th>4</th>\n",
       "      <td>ATGGGCAGCGCCAGCCCGGGTCTGAGCAGCGTGTCCCCCAGCCACC...</td>\n",
       "      <td>6</td>\n",
       "    </tr>\n",
       "  </tbody>\n",
       "</table>\n",
       "</div>"
      ],
      "text/plain": [
       "                                            sequence  class\n",
       "0  ATGCCCCAACTAAATACCGCCGTATGACCCACCATAATTACCCCCA...      4\n",
       "1  ATGAACGAAAATCTATTCGCTTCATTCGCTGCCCCCACAATCCTAG...      4\n",
       "2  ATGGCCTCGCGCTGGTGGCGGTGGCGACGCGGCTGCTCCTGGAGGC...      4\n",
       "3  ATGGCCTCGCGCTGGTGGCGGTGGCGACGCGGCTGCTCCTGGAGGC...      4\n",
       "4  ATGGGCAGCGCCAGCCCGGGTCTGAGCAGCGTGTCCCCCAGCCACC...      6"
      ]
     },
     "execution_count": 64,
     "metadata": {},
     "output_type": "execute_result"
    }
   ],
   "source": [
    "chimp_data = pd.read_table('chimp_data.txt') #reading the data from table using pd.read_table method\n",
    "chimp_data.head()  #head method displays the first five rows"
   ]
  },
  {
   "cell_type": "code",
   "execution_count": 65,
   "metadata": {},
   "outputs": [
    {
     "data": {
      "text/html": [
       "<div>\n",
       "<style scoped>\n",
       "    .dataframe tbody tr th:only-of-type {\n",
       "        vertical-align: middle;\n",
       "    }\n",
       "\n",
       "    .dataframe tbody tr th {\n",
       "        vertical-align: top;\n",
       "    }\n",
       "\n",
       "    .dataframe thead th {\n",
       "        text-align: right;\n",
       "    }\n",
       "</style>\n",
       "<table border=\"1\" class=\"dataframe\">\n",
       "  <thead>\n",
       "    <tr style=\"text-align: right;\">\n",
       "      <th></th>\n",
       "      <th>class</th>\n",
       "    </tr>\n",
       "  </thead>\n",
       "  <tbody>\n",
       "    <tr>\n",
       "      <th>count</th>\n",
       "      <td>1682.000000</td>\n",
       "    </tr>\n",
       "    <tr>\n",
       "      <th>mean</th>\n",
       "      <td>3.491082</td>\n",
       "    </tr>\n",
       "    <tr>\n",
       "      <th>std</th>\n",
       "      <td>2.177486</td>\n",
       "    </tr>\n",
       "    <tr>\n",
       "      <th>min</th>\n",
       "      <td>0.000000</td>\n",
       "    </tr>\n",
       "    <tr>\n",
       "      <th>25%</th>\n",
       "      <td>2.000000</td>\n",
       "    </tr>\n",
       "    <tr>\n",
       "      <th>50%</th>\n",
       "      <td>4.000000</td>\n",
       "    </tr>\n",
       "    <tr>\n",
       "      <th>75%</th>\n",
       "      <td>6.000000</td>\n",
       "    </tr>\n",
       "    <tr>\n",
       "      <th>max</th>\n",
       "      <td>6.000000</td>\n",
       "    </tr>\n",
       "  </tbody>\n",
       "</table>\n",
       "</div>"
      ],
      "text/plain": [
       "             class\n",
       "count  1682.000000\n",
       "mean      3.491082\n",
       "std       2.177486\n",
       "min       0.000000\n",
       "25%       2.000000\n",
       "50%       4.000000\n",
       "75%       6.000000\n",
       "max       6.000000"
      ]
     },
     "execution_count": 65,
     "metadata": {},
     "output_type": "execute_result"
    }
   ],
   "source": [
    "#Pandas describe() is used to view some basic statistical details like percentile, mean, std etc. of a data frame or a series of numeric values\n",
    "chimp_data.describe() \n"
   ]
  },
  {
   "cell_type": "code",
   "execution_count": 66,
   "metadata": {},
   "outputs": [
    {
     "data": {
      "image/png": "[encoded data removed]",
      "text/plain": [
       "<Figure size 432x288 with 1 Axes>"
      ]
     },
     "metadata": {
      "needs_background": "light"
     },
     "output_type": "display_data"
    }
   ],
   "source": [
    "sns.barplot(x=chimp_data[\"class\"].value_counts().sort_index(),y=labels) #plotting the barplot using seaborn\n",
    "plt.title(\"Class frequency for Chimp data\") #title for plot\n",
    "plt.xlabel('Frequency') #label for x axis\n",
    "plt.ylabel('Protein class') #label for y axis\n",
    "plt.show()  #displaying the plot"
   ]
  },
  {
   "cell_type": "code",
   "execution_count": 67,
   "metadata": {},
   "outputs": [
    {
     "data": {
      "image/png": "[encoded data removed]",
      "text/plain": [
       "<Figure size 432x432 with 1 Axes>"
      ]
     },
     "metadata": {},
     "output_type": "display_data"
    }
   ],
   "source": [
    "plt.figure(figsize=(6,6)) #using plt.figure to plot a figure and setting its figsize\n",
    "font_dict=font = {'family': 'serif',\n",
    "        'color':  'Black',\n",
    "        'weight': 'normal',\n",
    "        'size': 20,\n",
    "        }\n",
    "a=np.random.random(7) #generating 7 random numbers using np.random method\n",
    "cs=cm.Set1(np.arange(7)/7.) #this assigns colors from colormap of matplotlib to each 7 numbers\n",
    "plt.pie(chimp_data[\"class\"].value_counts().sort_index(),labels=labels,autopct='%1.1f%%',colors=cs,startangle=90)\n",
    "#code for plotting the pie chart --value_counts counts the number of elements belonging to a specific class\n",
    "plt.axis('equal') \n",
    "plt.title(\"Chimp data Protein class\",fontdict=font_dict) #setting up the title of pie chart and using above made font_dict\n",
    "plt.show()  #displaying the pie chart"
   ]
  },
  {
   "cell_type": "markdown",
   "metadata": {},
   "source": [
    "# 3. Model Development \n",
    "\n"
   ]
  },
  {
   "cell_type": "markdown",
   "metadata": {},
   "source": [
    "# (a)- Human Data "
   ]
  },
  {
   "cell_type": "code",
   "execution_count": 68,
   "metadata": {},
   "outputs": [],
   "source": [
    "#k-mers are subsequences of length k {\\displaystyle k} k contained within a biological sequence. Primarily used \n",
    "# within the context of computational genomics and sequence analysis, in which k-mers are composed of nucleotides \n",
    "# (i.e. A, T, G, and C), k-mers are capitalized upon to assemble DNA sequences,[1] improve heterologous gene \n",
    "# expression,[2][3] identify species in metagenomic samples,[4] and create attenuated vaccines.[5] Usually, the \n",
    "# term k-mer refers to all of a sequence's subsequences of length k {\\displaystyle k} k, such that the sequence \n",
    "# AGAT would have four monomers (A, G, A, and T), three 2-mers (AG, GA, AT), two 3-mers (AGA and GAT) and one 4-mer \n",
    "# (AGAT).\n",
    "\n",
    "# function to convert sequence strings into k-mer words, default size = 6 (hexamer words)\n",
    "def getKmers(sequence, size=6):\n",
    "    return [sequence[x:x+size].lower() for x in range(len(sequence) - size + 1)]\n",
    "\n",
    "# The CountVectorizer provides a simple way to both tokenize a collection of text documents and build a vocabulary\n",
    "# of known words, but also to encode new documents using that vocabulary.\n",
    "# You can use it as follows:\n",
    "# 1-Create an instance of the CountVectorizer class.\n",
    "# 2-Call the fit() function in order to learn a vocabulary from one or more documents.\n",
    "# 3-Call the transform() function on one or more documents as needed to encode each as a vector.\n",
    "\n",
    "# ngram_range tuple (min_n, max_n), default=(1, 1)-\n",
    "# The lower and upper boundary of the range of n-values for different word n-grams or char n-grams to be extracted. \n",
    "# All values of n such such that min_n <= n <= max_n will be used. For example an ngram_range of (1, 1) means only \n",
    "# unigrams, (1, 2) means unigrams and bigrams, and (2, 2) means only bigrams. Only applies if analyzer is not \n",
    "# callable.\n",
    "cv = CountVectorizer(ngram_range=(4,4))  #creating an instance of countvectorizer as cv and using n_gram range as [4,4]\n"
   ]
  },
  {
   "cell_type": "code",
   "execution_count": 69,
   "metadata": {},
   "outputs": [],
   "source": [
    "\n",
    "human_data['words'] = human_data.apply(lambda x: getKmers(x['sequence']), axis=1) #applying getKmers function to \n",
    "# sequence column of human_data \n",
    "human_data = human_data.drop('sequence', axis=1) #dropping th sequence column using .drop method  "
   ]
  },
  {
   "cell_type": "code",
   "execution_count": 70,
   "metadata": {},
   "outputs": [],
   "source": [
    "human_texts = list(human_data[\"words\"]) #creating a list of words column in human_data \n",
    "for item in range (len(human_data)): #iterating through the list using item as iterator \n",
    "    human_texts[item]=\" \".join(human_texts[item]) #joinnig the items using a blankspace "
   ]
  },
  {
   "cell_type": "code",
   "execution_count": 71,
   "metadata": {},
   "outputs": [],
   "source": [
    "X_human = cv.fit_transform(human_texts)  # using fit() method of CountVectorizer in order to learn a vocabulary from one or more documents.\n",
    "y_human = human_data.iloc[:, 0].values  "
   ]
  },
  {
   "cell_type": "code",
   "execution_count": 72,
   "metadata": {},
   "outputs": [
    {
     "name": "stdout",
     "output_type": "stream",
     "text": [
      "(4380, 232414) (4380,)\n"
     ]
    }
   ],
   "source": [
    "print(X_human.shape,y_human.shape)  #printing out the shape of X_human and y_human"
   ]
  },
  {
   "cell_type": "code",
   "execution_count": 73,
   "metadata": {},
   "outputs": [
    {
     "data": {
      "text/plain": [
       "'atgaac tgaacg gaacga aacgaa acgaaa cgaaaa gaaaat aaaatc aaatct aatctg atctgt tctgtt ctgttc tgttcg gttcgc ttcgct tcgctt cgcttc gcttca cttcat ttcatt tcattc cattca attcat ttcatt tcattg cattgc attgcc ttgccc tgcccc gccccc ccccca ccccac cccaca ccacaa cacaat acaatc caatcc aatcct atccta tcctag cctagg ctaggc taggcc aggcct ggccta gcctac cctacc ctaccc tacccg acccgc cccgcc ccgccg cgccgc gccgca ccgcag cgcagt gcagta cagtac agtact gtactg tactga actgat ctgatc tgatca gatcat atcatt tcattc cattct attcta ttctat tctatt ctattt tatttc atttcc tttccc ttcccc tccccc ccccct cccctc ccctct cctcta ctctat tctatt ctattg tattga attgat ttgatc tgatcc gatccc atcccc tcccca ccccac cccacc ccacct cacctc acctcc cctcca ctccaa tccaaa ccaaat caaata aaatat aatatc atatct tatctc atctca tctcat ctcatc tcatca catcaa atcaac tcaaca caacaa aacaac acaacc caaccg aaccga accgac ccgact cgacta gactaa actaat ctaatc taatca aatcac atcacc tcacca caccac accacc ccaccc caccca acccaa cccaac ccaaca caacaa aacaat acaatg caatga aatgac atgact tgacta gactaa actaat ctaatc taatca aatcaa atcaaa tcaaac caaact aaacta aactaa actaac ctaacc taacct aacctc acctca cctcaa ctcaaa tcaaaa caaaac aaaaca aaacaa aacaaa acaaat caaatg aaatga aatgat atgata tgataa gataac ataacc taacca aaccat accata ccatac cataca atacac tacaca acacaa cacaac acaaca caacac aacact acacta cactaa actaaa ctaaag taaagg aaagga aaggac aggacg ggacga gacgaa acgaac cgaacc gaacct aacctg acctga cctgat ctgatc tgatct gatctc atctct tctctt ctctta tcttat cttata ttatac tatact atacta tactag actagt ctagta tagtat agtatc gtatcc tatcct atcctt tcctta ccttaa cttaat ttaatc taatca aatcat atcatt tcattt catttt attttt ttttta ttttat tttatt ttattg tattgc attgcc ttgcca tgccac gccaca ccacaa cacaac acaact caacta aactaa actaac ctaacc taacct aacctc acctcc cctcct ctcctc tcctcg cctcgg ctcgga tcggac cggact ggactc gactcc actcct ctcctg tcctgc cctgcc ctgcct tgcctc gcctca cctcac ctcact tcactc cactca actcat ctcatt tcattt cattta atttac tttaca ttacac tacacc acacca caccaa accaac ccaacc caacca aaccac accacc ccaccc caccca acccaa cccaac ccaact caacta aactat actatc ctatct tatcta atctat tctata ctataa tataaa ataaac taaacc aaacct aaccta acctag cctagc ctagcc tagcca agccat gccatg ccatgg catggc atggcc tggcca ggccat gccatc ccatcc catccc atcccc tcccct cccctt ccctta ccttat cttatg ttatga tatgag atgagc tgagcg gagcgg agcggg gcgggc cgggca gggcac ggcaca gcacag cacagt acagtg cagtga agtgat gtgatt tgatta gattat attata ttatag tatagg ataggc taggct aggctt ggcttt gctttc ctttcg tttcgc ttcgct tcgctc cgctct gctcta ctctaa tctaag ctaaga taagat aagatt agatta gattaa attaaa ttaaaa taaaaa aaaaat aaaatg aaatgc aatgcc atgccc tgccct gcccta ccctag cctagc ctagcc tagccc agccca gcccac cccact ccactt cacttc acttct cttctt ttctta tcttac cttacc ttacca taccac accaca ccacaa cacaag acaagg caaggc aaggca aggcac ggcaca gcacac cacacc acacct caccta acctac cctaca ctacac tacacc acaccc cacccc acccct cccctt ccctta ccttat cttatc ttatcc tatccc atcccc tcccca ccccat cccata ccatac catact atacta tactag actagt ctagtt tagtta agttat gttatt ttatta tattat attatc ttatcg tatcga atcgaa tcgaaa cgaaac gaaacc aaacca aaccat accatc ccatca catcag atcagc tcagcc cagcct agccta gcctac cctact ctactc tactca actcat ctcatt tcattc cattca attcaa ttcaac tcaacc caacca aaccaa accaat ccaata caatag aatagc atagcc tagccc agccct gccctg ccctgg cctggc ctggcc tggccg ggccgt gccgta ccgtac cgtacg gtacgc tacgcc acgcct cgccta gcctaa cctaac ctaacc taaccg aaccgc accgct ccgcta cgctaa gctaac ctaaca taacat aacatt acatta cattac attact ttactg tactgc actgca ctgcag tgcagg gcaggc caggcc aggcca ggccac gccacc ccacct caccta acctac cctact ctactc tactca actcat ctcatg tcatgc catgca atgcac tgcacc gcacct caccta acctaa cctaat ctaatt taattg aattgg attgga ttggaa tggaag ggaagc gaagcg aagcgc agcgcc gcgcca cgccac gccacc ccaccc caccct acccta ccctag cctagc ctagca tagcaa agcaat gcaata caatat aatatc atatca tatcaa atcaac tcaacc caacca aaccat accatt ccatta cattaa attaac ttaacc taacct aacctt accttc ccttcc cttccc ttccct tccctc ccctct cctcta ctctac tctaca ctacac tacact acactt cactta acttat cttatc ttatca tatcat atcatc tcatct catctt atcttc tcttca cttcac ttcaca tcacaa cacaat acaatt caattc aattct attcta ttctaa tctaat ctaatt taattc aattct attcta ttctac tctact ctactg tactga actgac ctgact tgacta gactat actatc ctatcc tatcct atccta tcctag cctaga ctagaa tagaaa agaaat gaaatc aaatcg aatcgc atcgct tcgctg cgctgt gctgtc ctgtcg tgtcgc gtcgcc tcgcct cgcctt gcctta ccttaa cttaat ttaatc taatcc aatcca atccaa tccaag ccaagc caagcc aagcct agccta gcctac cctacg ctacgt tacgtt acgttt cgtttt gttttc ttttca tttcac ttcaca tcacac cacact acactt cacttc acttct cttcta ttctag tctagt ctagta tagtaa agtaag gtaagc taagcc aagcct agcctc gcctct cctcta ctctac tctacc ctacct tacctg acctgc cctgca ctgcac tgcacg gcacga cacgac acgaca cgacaa gacaac acaaca caacac aacaca acacat cacata acataa'"
      ]
     },
     "execution_count": 73,
     "metadata": {},
     "output_type": "execute_result"
    }
   ],
   "source": [
    "(human_texts[1]) #extracting out the first element from human_text to have a hint about sequences"
   ]
  },
  {
   "cell_type": "code",
   "execution_count": null,
   "metadata": {},
   "outputs": [],
   "source": []
  },
  {
   "cell_type": "code",
   "execution_count": 74,
   "metadata": {},
   "outputs": [],
   "source": [
    "#train_test_split is a function in Sklearn model selection for splitting data arrays into two subsets: for \n",
    "# training data and for testing data. With this function, you don't need to divide the dataset manually. By default\n",
    "# Sklearn train_test_split will make random partitions for the two subsets\n",
    "\n",
    "from sklearn.model_selection import train_test_split\n",
    "X_train_human, X_test_human, y_train_human, y_test_human = train_test_split(X_human,y_human,test_size = 0.25,random_state=42)\n",
    "#splitting the data into train and split by ratio of 75% train and 25% test"
   ]
  },
  {
   "cell_type": "code",
   "execution_count": 75,
   "metadata": {},
   "outputs": [
    {
     "name": "stdout",
     "output_type": "stream",
     "text": [
      "Accuracy for human data using  DecisionTree Classifier :  0.7954337899543379\n"
     ]
    }
   ],
   "source": [
    "from sklearn.tree import DecisionTreeClassifier #importing the decisiontreeclassifier algorithm from sklearn\n",
    "dtree_human = DecisionTreeClassifier() #initialsing the DecisionTreeClassifier and storing it in a variable \n",
    "dtree_human.fit(X_train_human,y_train_human) #calling the .fit method to fit our classifier on train data\n",
    "dtree_human_pred = dtree_human.predict(X_test_human) #using the predict method of classifer to make predictions on test data\n",
    "print(\"Accuracy for human data using  DecisionTree Classifier : \",accuracy_score(dtree_human_pred,y_test_human)) #finding the accuracy using accuracy_score  from sklearn"
   ]
  },
  {
   "cell_type": "code",
   "execution_count": 76,
   "metadata": {},
   "outputs": [
    {
     "name": "stdout",
     "output_type": "stream",
     "text": [
      "Accuracy for human data using RandomForest Classifier :  0.9205479452054794\n"
     ]
    }
   ],
   "source": [
    "from sklearn.ensemble import RandomForestClassifier #importing the RandomForestclassifier algorithm from sklearn\n",
    "rf_human = RandomForestClassifier(n_estimators=400) ##initialsing the RandomForestClassifier and storing it in a variable\n",
    "rf_human.fit(X_train_human,y_train_human) ##calling the .fit method to fit our classifier on train data\n",
    "rf_human_pred = rf_human.predict(X_test_human) #using the predict method of classifer to make predictions on test data\n",
    "print(\"Accuracy for human data using RandomForest Classifier : \",accuracy_score(rf_human_pred,y_test_human)) #finding the accuracy using accuracy_score  from sklearn"
   ]
  },
  {
   "cell_type": "code",
   "execution_count": 77,
   "metadata": {},
   "outputs": [
    {
     "name": "stdout",
     "output_type": "stream",
     "text": [
      "Accuracy for human data using XGBoost Classifier :  0.7844748858447489\n"
     ]
    }
   ],
   "source": [
    "import xgboost as xgb #importing xgboost algorithm\n",
    "xgb_human = xgb.XGBClassifier()  #initialsing the xgboost algortihm and storing it in a variable\n",
    "xgb_human.fit(X_train_human,y_train_human) #calling the .fit method to fit our classifier on train data\n",
    "xgb_human_pred = xgb_human.predict(X_test_human)  #using the predict method of classifer to make predictions on test data\n",
    "print(\"Accuracy for human data using XGBoost Classifier : \",accuracy_score(xgb_human_pred,y_test_human))#finding the accuracy using accuracy_score  from sklearn"
   ]
  },
  {
   "cell_type": "code",
   "execution_count": 78,
   "metadata": {},
   "outputs": [
    {
     "name": "stdout",
     "output_type": "stream",
     "text": [
      "Accuracy for human data using Naive Bayes Classifier :  0.9780821917808219\n"
     ]
    }
   ],
   "source": [
    "from sklearn.naive_bayes import MultinomialNB #importing the decisiontreeclassifier algorithm from sklearn\n",
    "NB_human = MultinomialNB(alpha=0.1) #initialsing the MultinomialNB algortihm and storing it in a variable\n",
    "NB_human.fit(X_train_human,y_train_human) #calling the .fit method to fit our classifier on train data\n",
    "y_pred_human = NB_human.predict(X_test_human)  #using the predict method of classifer to make predictions on test data\n",
    "nb_accuracy_human = accuracy_score(y_pred_human,y_test_human)\n",
    "print(\"Accuracy for human data using Naive Bayes Classifier : \" ,nb_accuracy_human) #finding the accuracy using accuracy_score  from sklearn"
   ]
  },
  {
   "cell_type": "code",
   "execution_count": 79,
   "metadata": {},
   "outputs": [
    {
     "data": {
      "text/plain": [
       "<Figure size 720x720 with 0 Axes>"
      ]
     },
     "metadata": {},
     "output_type": "display_data"
    },
    {
     "data": {
      "image/png": "[encoded data removed]",
      "text/plain": [
       "<Figure size 432x288 with 2 Axes>"
      ]
     },
     "metadata": {
      "needs_background": "light"
     },
     "output_type": "display_data"
    }
   ],
   "source": [
    "plt.figure(figsize=((10,10)))\n",
    "plot_confusion_matrix(confusion_matrix(y_pred_human,y_test_human),colorbar=True,class_names=labels) #plotting the confusion matrix\n",
    "plt.show() #displaying the plot using plt.show"
   ]
  },
  {
   "cell_type": "code",
   "execution_count": 80,
   "metadata": {},
   "outputs": [
    {
     "name": "stdout",
     "output_type": "stream",
     "text": [
      "              precision    recall  f1-score   support\n",
      "\n",
      "           0       0.98      0.94      0.96       127\n",
      "           1       0.97      0.99      0.98       128\n",
      "           2       0.99      1.00      0.99        92\n",
      "           3       0.99      0.99      0.99       150\n",
      "           4       0.97      0.98      0.98       181\n",
      "           5       0.95      1.00      0.98        62\n",
      "           6       0.98      0.97      0.97       355\n",
      "\n",
      "    accuracy                           0.98      1095\n",
      "   macro avg       0.98      0.98      0.98      1095\n",
      "weighted avg       0.98      0.98      0.98      1095\n",
      "\n"
     ]
    }
   ],
   "source": [
    "print(classification_report(y_pred_human,y_test_human))  #printing out the classification report which gives us \n",
    "# the f1 score , recall , precision and support"
   ]
  },
  {
   "cell_type": "markdown",
   "metadata": {},
   "source": [
    "# (b)- Chimpanzee Data"
   ]
  },
  {
   "cell_type": "code",
   "execution_count": 81,
   "metadata": {},
   "outputs": [],
   "source": [
    "chimp_data['words'] = chimp_data.apply(lambda x: getKmers(x['sequence']), axis=1) #applying getKmers function to \n",
    "# sequence column of chimp_data\n",
    "chimp_data = chimp_data.drop('sequence', axis=1) #dropping th sequence column using .drop method "
   ]
  },
  {
   "cell_type": "code",
   "execution_count": 82,
   "metadata": {},
   "outputs": [],
   "source": [
    "chimp_texts = list(chimp_data['words']) #creating a list of words column in chimp_data\n",
    "for item in range(len(chimp_texts)): #iterating through the list using item as iterator\n",
    "    chimp_texts[item] = ' '.join(chimp_texts[item]) #joinnig the items using a blankspace"
   ]
  },
  {
   "cell_type": "code",
   "execution_count": 83,
   "metadata": {},
   "outputs": [
    {
     "data": {
      "text/plain": [
       "'atgaac tgaacg gaacga aacgaa acgaaa cgaaaa gaaaat aaaatc aaatct aatcta atctat tctatt ctattc tattcg attcgc ttcgct tcgctt cgcttc gcttca cttcat ttcatt tcattc cattcg attcgc ttcgct tcgctg cgctgc gctgcc ctgccc tgcccc gccccc ccccca ccccac cccaca ccacaa cacaat acaatc caatcc aatcct atccta tcctag cctagg ctaggc taggct aggctt ggctta gcttac cttacc ttaccc tacccg acccgc cccgcc ccgccg cgccgc gccgca ccgcag cgcagt gcagta cagtac agtact gtacta tactaa actaat ctaatc taatca aatcat atcatt tcattc cattct attcta ttctat tctatt ctattc tattcc attccc ttcccc tccccc cccccc ccccct cccctc ccctct cctcta ctctac tctact ctactg tactgg actggt ctggtc tggtcc ggtccc gtcccc tcccca ccccac cccact ccactt cacttc acttct cttcta ttctaa tctaaa ctaaac taaaca aaacat aacatc acatct catctc atctca tctcat ctcatc tcatca catcaa atcaac tcaaca caacaa aacaac acaacc caaccg aaccga accgac ccgact cgacta gactaa actaat ctaatt taatta aattac attacc ttacca taccac accacc ccaccc caccca acccaa cccaac ccaaca caacaa aacaat acaatg caatga aatgac atgact tgacta gactaa actaat ctaatt taattc aattca attcaa ttcaac tcaact caactg aactga actgac ctgacc tgacct gacctc acctca cctcaa ctcaaa tcaaaa caaaac aaaaca aaacaa aacaaa acaaat caaata aaataa aataat ataata taataa aataac ataact taacta aactat actata ctatac tataca atacac tacaca acacag cacagc acagca cagcac agcact gcacta cactaa actaaa ctaaag taaagg aaagga aaggac aggacg ggacga gacgaa acgaac cgaacc gaacct aacctg acctga cctgat ctgatc tgatct gatctc atctct tctctc ctctca tctcat ctcata tcatac catact atacta tactag actagt ctagta tagtat agtatc gtatcc tatcct atcctt tcctta ccttaa cttaat ttaatc taatca aatcat atcatt tcattt catttt attttt ttttta ttttat tttatt ttatta tattac attacc ttacca taccac accaca ccacaa cacaac acaacc caacca aaccaa accaat ccaatc caatct aatctt atcttc tcttct cttctt ttcttg tcttgg cttggg ttgggc tgggct gggctt ggcttc gcttct cttcta ttctac tctacc ctaccc tacccc acccca ccccac cccact ccactc cactca actcat ctcatt tcattc cattca attcac ttcaca tcacac cacacc acacca caccaa accaac ccaacc caacca aaccac accacc ccaccc caccca acccaa cccaac ccaact caacta aactat actatc ctatct tatcta atctat tctata ctataa tataaa ataaac taaacc aaacct aaccta acctag cctagc ctagcc tagcca agccat gccatg ccatgg catggc atggct tggcta ggctat gctatc ctatcc tatccc atcccc tccccc ccccct ccccta ccctat cctatg ctatga tatgag atgagc tgagca gagcag agcagg gcaggc caggcg aggcgc ggcgca gcgcag cgcagt gcagta cagtag agtagt gtagtc tagtca agtcat gtcata tcatag catagg ataggc taggct aggctt ggcttt gctttc ctttcg tttcgc ttcgct tcgctt cgcttt gcttta ctttaa tttaag ttaaga taagac aagact agacta gactaa actaaa ctaaaa taaaaa aaaaat aaaatg aaatgc aatgcc atgccc tgccct gcccta ccctag cctagc ctagcc tagccc agccca gcccac cccact ccactt cacttc acttct cttctt ttctta tcttac cttacc ttaccg taccgc accgca ccgcaa cgcaag gcaagg caaggc aaggca aggcac ggcaca gcacac cacacc acacct caccta acctac cctaca ctacac tacacc acaccc cacccc acccct cccctt ccctta ccttat cttatc ttatcc tatccc atcccc tcccca ccccat cccata ccatac catact atacta tactag actagt ctagtt tagtta agttat gttatc ttatca tatcat atcatc tcatcg catcga atcgaa tcgaaa cgaaac gaaact aaacta aactat actatt ctatta tattag attagc ttagcc tagcct agccta gcctac cctact ctactc tactca actcat ctcatt tcattc cattca attcaa ttcaac tcaacc caacca aaccaa accaat ccaata caatag aatagc atagcc tagcct agcctt gcctta ccttag cttagc ttagcc tagccg agccgt gccgta ccgtac cgtacg gtacgt tacgtc acgtct cgtcta gtctaa tctaac ctaacc taaccg aaccgc accgct ccgcta cgctaa gctaac ctaaca taacat aacatt acatta cattac attact ttactg tactgc actgca ctgcag tgcagg gcaggc caggcc aggcca ggccac gccacc ccacct caccta acctac cctact ctactc tactca actcat ctcatg tcatgc catgca atgcac tgcacc gcacct caccta acctaa cctaat ctaatt taattg aattgg attgga ttggaa tggaag ggaagc gaagcg aagcgc agcgcc gcgcca cgccac gccaca ccacac cacact acacta cactag actagc ctagca tagcat agcatt gcatta cattat attatc ttatca tatcaa atcaac tcaact caacta aactat actatc ctatca tatcaa atcaat tcaatc caatct aatcta atctac tctacc ctaccc taccct acccta ccctat cctatg ctatgc tatgca atgcac tgcact gcactc cactca actcat ctcatt tcatta cattat attatc ttatct tatctt atcttc tcttca cttcac ttcaca tcacaa cacaat acaatt caattc aattct attcta ttctaa tctaat ctaatc taatcc aatcct atccta tcctac cctact ctactg tactga actgac ctgact tgacta gactat actatt ctattc tattct attcta ttctag tctaga ctagag tagaga agagat gagatc agatcg gatcgc atcgcc tcgccg cgccgt gccgtc ccgtcg cgtcgc gtcgcc tcgcct cgcctt gcctta ccttaa cttaat ttaatc taatcc aatcca atccaa tccaag ccaagc caagcc aagcct agccta gcctac cctacg ctacgt tacgtt acgttt cgtttt gttttt ttttta ttttac tttaca ttacac tacact acactt cacttc acttct cttcta ttctag tctagt ctagtg tagtga agtgag gtgagc tgagcc gagcct agcctc gcctct cctcta ctctac tctacc ctacct tacctg acctgc cctgca ctgcac tgcacg gcacga cacgac acgaca cgacaa gacaac acaaca caacac aacaca acacat cacata acataa'"
      ]
     },
     "execution_count": 83,
     "metadata": {},
     "output_type": "execute_result"
    }
   ],
   "source": [
    "(chimp_texts[1]) #extracting out the first element from human_text to have a hint about sequences"
   ]
  },
  {
   "cell_type": "code",
   "execution_count": 84,
   "metadata": {},
   "outputs": [],
   "source": [
    "X_chimp = cv.transform(chimp_texts) # using fit() method of CountVectorizer in order to learn a vocabulary from one or more documents.\n",
    "y_chimp = chimp_data.iloc[:, 0].values  "
   ]
  },
  {
   "cell_type": "code",
   "execution_count": 85,
   "metadata": {},
   "outputs": [
    {
     "name": "stdout",
     "output_type": "stream",
     "text": [
      "(1682, 232414) (1682,)\n"
     ]
    }
   ],
   "source": [
    "print(X_chimp.shape,y_chimp.shape) #printing out the shape of X_chimp and y_chimp"
   ]
  },
  {
   "cell_type": "code",
   "execution_count": 86,
   "metadata": {},
   "outputs": [],
   "source": [
    "from sklearn.model_selection import train_test_split\n",
    "X_train_chimp, X_test_chimp, y_train_chimp, y_test_chimp = train_test_split(X_chimp,y_chimp,test_size = 0.25,random_state=42)\n",
    "#splitting the data into train and split by ratio of 75% train and 25% test"
   ]
  },
  {
   "cell_type": "code",
   "execution_count": 87,
   "metadata": {},
   "outputs": [
    {
     "name": "stdout",
     "output_type": "stream",
     "text": [
      "Accuracy for Chimp data using  DecisionTree Classifier :  0.7600950118764845\n"
     ]
    }
   ],
   "source": [
    "from sklearn.tree import DecisionTreeClassifier\n",
    "dtree_chimp = DecisionTreeClassifier()\n",
    "dtree_chimp.fit(X_train_chimp,y_train_chimp)\n",
    "dtree_chimp_pred = dtree_chimp.predict(X_test_chimp)\n",
    "print(\"Accuracy for Chimp data using  DecisionTree Classifier : \",accuracy_score(dtree_chimp_pred,y_test_chimp))"
   ]
  },
  {
   "cell_type": "code",
   "execution_count": 88,
   "metadata": {},
   "outputs": [
    {
     "name": "stdout",
     "output_type": "stream",
     "text": [
      "Accuracy for Chimp data using Random Forest Classifier :  0.828978622327791\n"
     ]
    }
   ],
   "source": [
    "from sklearn.ensemble import RandomForestClassifier\n",
    "rf_chimp = RandomForestClassifier(n_estimators=400)\n",
    "rf_chimp.fit(X_train_chimp,y_train_chimp)\n",
    "rf_chimp_pred = rf_chimp.predict(X_test_chimp)\n",
    "print(\"Accuracy for Chimp data using Random Forest Classifier : \",accuracy_score(rf_chimp_pred,y_test_chimp))"
   ]
  },
  {
   "cell_type": "code",
   "execution_count": 89,
   "metadata": {},
   "outputs": [
    {
     "name": "stdout",
     "output_type": "stream",
     "text": [
      "Accuracy for Chimp data using XGBoost Classifier :  0.7862232779097387\n"
     ]
    }
   ],
   "source": [
    "import xgboost as xgb\n",
    "xgb_chimp = xgb.XGBClassifier()\n",
    "xgb_chimp.fit(X_train_chimp,y_train_chimp)\n",
    "xgb_chimp_pred = xgb_chimp.predict(X_test_chimp)\n",
    "print(\"Accuracy for Chimp data using XGBoost Classifier : \",accuracy_score(xgb_chimp_pred,y_test_chimp))"
   ]
  },
  {
   "cell_type": "code",
   "execution_count": 90,
   "metadata": {},
   "outputs": [
    {
     "name": "stdout",
     "output_type": "stream",
     "text": [
      "Accuracy for Chimp data using Naive Bayes Classifier :  0.8978622327790974\n"
     ]
    }
   ],
   "source": [
    "NB_chimp = MultinomialNB(alpha=0.1)\n",
    "NB_chimp.fit(X_train_chimp,y_train_chimp)\n",
    "y_pred_chimp = NB_chimp.predict(X_test_chimp)\n",
    "nb_accuracy_chimp = accuracy_score(y_pred_chimp,y_test_chimp)\n",
    "print(\"Accuracy for Chimp data using Naive Bayes Classifier : \" ,nb_accuracy_chimp)"
   ]
  },
  {
   "cell_type": "code",
   "execution_count": 91,
   "metadata": {},
   "outputs": [
    {
     "data": {
      "text/plain": [
       "<Figure size 720x720 with 0 Axes>"
      ]
     },
     "metadata": {},
     "output_type": "display_data"
    },
    {
     "data": {
      "image/png": "[encoded data removed]",
      "text/plain": [
       "<Figure size 432x288 with 2 Axes>"
      ]
     },
     "metadata": {
      "needs_background": "light"
     },
     "output_type": "display_data"
    }
   ],
   "source": [
    "plt.figure(figsize=((10,10)))\n",
    "plot_confusion_matrix(confusion_matrix(y_pred_chimp,y_test_chimp),colorbar=True,class_names=labels)\n",
    "plt.show()"
   ]
  },
  {
   "cell_type": "code",
   "execution_count": 92,
   "metadata": {},
   "outputs": [
    {
     "name": "stdout",
     "output_type": "stream",
     "text": [
      "              precision    recall  f1-score   support\n",
      "\n",
      "           0       0.95      0.88      0.91        48\n",
      "           1       0.98      0.98      0.98        51\n",
      "           2       0.93      1.00      0.97        28\n",
      "           3       0.93      0.93      0.93        54\n",
      "           4       0.73      0.98      0.84        50\n",
      "           5       0.55      1.00      0.71        18\n",
      "           6       0.99      0.82      0.90       172\n",
      "\n",
      "    accuracy                           0.90       421\n",
      "   macro avg       0.87      0.94      0.89       421\n",
      "weighted avg       0.92      0.90      0.90       421\n",
      "\n"
     ]
    }
   ],
   "source": [
    "print(classification_report(y_pred_chimp,y_test_chimp))  \n",
    "#printing out the classification report which gives us  the f1 score , recall , precision and support"
   ]
  },
  {
   "cell_type": "code",
   "execution_count": 95,
   "metadata": {},
   "outputs": [],
   "source": [
    "# Pickle in Python is primarily used in serializing and deserializing a Python object structure. In other words, \n",
    "# it's the process of converting a Python object into a byte stream to store it in a file/database, maintain program\\\n",
    "# state across sessions, or transport data over the network.\n",
    "#To open the file for writing, simply use the open() function. The first argument should be the name of your file. The \n",
    "# second argument is 'wb'. The w means that you'll be writing to the file, and b refers to binary mode.\n",
    "#Once the file is opened for writing, you can use pickle.dump(), which takes two arguments: the object you want \n",
    "#to pickle and the file to which the object has to be saved. In this case, the former will be classifier, while \n",
    "# the latter will be model_pkl.\n",
    "# Close the pickle instances using pickle.close()\n",
    "\n",
    "#this code makes pickle file\n",
    "\"\"\"\n",
    "import pickle\n",
    "filename = 'human_data_NB.pkl'\n",
    "model_pkl = open(filename, 'wb') \n",
    "pickle.dump(NB_human, model_pkl)\n",
    "# Close the pickle instances\n",
    "model_pkl.close()\n",
    "\n",
    "filename = 'chimp_data_NB.pkl'\n",
    "model_pkl = open(filename, 'wb') \n",
    "pickle.dump(NB_chimp, model_pkl)\n",
    "# Close the pickle instances\n",
    "model_pkl.close() \n",
    "\"\"\""
   ]
  },
  {
   "cell_type": "code",
   "execution_count": 96,
   "metadata": {},
   "outputs": [],
   "source": []
  },
  {
   "cell_type": "code",
   "execution_count": 98,
   "metadata": {},
   "outputs": [],
   "source": [
    "import pickle\n",
    "human_pkl=open('human_data_NB.pkl','rb') #opening our pickle file of model in \"rb\" i.e. \"rb\" mode opens the file in binary format for reading.\n",
    "humanmodel = pickle.load(human_pkl) #loading the pickle file\n",
    "\n",
    "import pickle\n",
    "chimp_pkl=open('chimp_data_NB.pkl','rb') #opening our pickle file of model in \"rb\" i.e. \"rb\" mode opens the file in binary format for reading.\n",
    "chimpmodel = pickle.load(chimp_pkl)  #loading the pickle file"
   ]
  },
  {
   "cell_type": "code",
   "execution_count": null,
   "metadata": {},
   "outputs": [],
   "source": []
  },
  {
   "cell_type": "markdown",
   "metadata": {},
   "source": [
    "# CONCLUSION - \n",
    "Seven different types of proteins which are common in both human and chimps  have been classfied using machine \n",
    "learning algorithms like RandomForest , DecisionTree , XGBoost and Multinomial classification Algorithms. we obtained the maximum accuracy with Multinomial Naive bayes classifier on both human and chimp dataset with around 97.8 % and 89.7% respectively. we found out that Naive Bayes algorithm is most suitable for working with sequence data out of other three algorithms."
   ]
  },
  {
   "cell_type": "code",
   "execution_count": null,
   "metadata": {},
   "outputs": [],
   "source": []
  },
  {
   "cell_type": "code",
   "execution_count": null,
   "metadata": {},
   "outputs": [],
   "source": []
  }
 ],
 "metadata": {
  "kernelspec": {
   "display_name": "Python 3",
   "language": "python",
   "name": "python3"
  },
  "language_info": {
   "codemirror_mode": {
    "name": "ipython",
    "version": 3
   },
   "file_extension": ".py",
   "mimetype": "text/x-python",
   "name": "python",
   "nbconvert_exporter": "python",
   "pygments_lexer": "ipython3",
   "version": "3.7.3"
  }
 },
 "nbformat": 4,
 "nbformat_minor": 2
}
